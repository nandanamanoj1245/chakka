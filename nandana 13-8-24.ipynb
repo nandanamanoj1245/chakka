{
 "cells": [
  {
   "cell_type": "code",
   "execution_count": 1,
   "id": "d756f408",
   "metadata": {},
   "outputs": [
    {
     "name": "stdout",
     "output_type": "stream",
     "text": [
      "enter the values of kilometer=4\n"
     ]
    }
   ],
   "source": [
    "km=int(input('enter the values of kilometer='))"
   ]
  },
  {
   "cell_type": "code",
   "execution_count": 2,
   "id": "765f00f2",
   "metadata": {},
   "outputs": [],
   "source": [
    "ratio=0.6213"
   ]
  },
  {
   "cell_type": "code",
   "execution_count": 3,
   "id": "a0721e5f",
   "metadata": {},
   "outputs": [],
   "source": [
    "miles=km*ratio"
   ]
  },
  {
   "cell_type": "code",
   "execution_count": 4,
   "id": "0c3803a9",
   "metadata": {},
   "outputs": [
    {
     "name": "stdout",
     "output_type": "stream",
     "text": [
      "the length in miles= 2.4852\n"
     ]
    }
   ],
   "source": [
    "print('the length in miles=',miles)"
   ]
  },
  {
   "cell_type": "code",
   "execution_count": 5,
   "id": "ea77da3b",
   "metadata": {},
   "outputs": [],
   "source": [
    "def findmultiples(x,y,multiple):\n",
    "    \n",
    "    for i in range(x,x+multiple):\n",
    "        if i % multiple==0:\n",
    "            break\n",
    "            \n",
    "    for j in range(i,y,multiple):\n",
    "        print(j)\n",
    "        \n",
    "    findmultiples(121,143,3)"
   ]
  },
  {
   "cell_type": "code",
   "execution_count": null,
   "id": "256bbcce",
   "metadata": {},
   "outputs": [],
   "source": []
  }
 ],
 "metadata": {
  "kernelspec": {
   "display_name": "Python 3 (ipykernel)",
   "language": "python",
   "name": "python3"
  },
  "language_info": {
   "codemirror_mode": {
    "name": "ipython",
    "version": 3
   },
   "file_extension": ".py",
   "mimetype": "text/x-python",
   "name": "python",
   "nbconvert_exporter": "python",
   "pygments_lexer": "ipython3",
   "version": "3.9.7"
  }
 },
 "nbformat": 4,
 "nbformat_minor": 5
}
